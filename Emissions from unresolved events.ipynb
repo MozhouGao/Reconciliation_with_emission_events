{
 "cells": [
  {
   "cell_type": "code",
   "execution_count": null,
   "id": "b2ad9634-97ea-4241-abe5-abead3a0d379",
   "metadata": {},
   "outputs": [],
   "source": [
    "import numpy as np \n",
    "import random\n",
    "import pandas as pd \n",
    "from datetime import datetime, timedelta\n",
    "import netCDF4 as nc\n",
    "import ast\n",
    "from collections import Counter"
   ]
  },
  {
   "cell_type": "code",
   "execution_count": null,
   "id": "777801bc-d0c1-4304-b8ff-1c134b37d989",
   "metadata": {},
   "outputs": [],
   "source": [
    "def hours_since_datetime(current_datetime,target_datetime):\n",
    "    time_difference = current_datetime - target_datetime\n",
    "    hours_difference = time_difference.total_seconds() / 3600\n",
    "    return hours_difference"
   ]
  },
  {
   "cell_type": "markdown",
   "id": "93fc444c-eff8-4e76-92f0-7fb8d8108fab",
   "metadata": {},
   "source": [
    "#### Load ERA5 Wind data "
   ]
  },
  {
   "cell_type": "code",
   "execution_count": null,
   "id": "bfb8b2fc-1fa4-418d-ac78-f551aaf0af82",
   "metadata": {},
   "outputs": [],
   "source": [
    "wind_data = nc.Dataset(\"weather_permian.nc\")\n",
    "u10 = wind_data.variables[\"u10\"][:]\n",
    "v10 = wind_data.variables[\"v10\"][:]\n",
    "ws = (u10**2 + v10**2)**0.5\n",
    "wind_data.close()"
   ]
  },
  {
   "cell_type": "code",
   "execution_count": null,
   "id": "e0efb09e-9ef2-4466-bbd4-7019233349d4",
   "metadata": {},
   "outputs": [],
   "source": [
    "wind_speed = ws[:,1,1]"
   ]
  },
  {
   "cell_type": "markdown",
   "id": "89f3a9be-c551-439e-a791-46adac9052ef",
   "metadata": {},
   "source": [
    "#### Load events "
   ]
  },
  {
   "cell_type": "code",
   "execution_count": null,
   "id": "d4022c2e-1826-4427-9193-55840c411bda",
   "metadata": {},
   "outputs": [],
   "source": [
    "events = pd.read_csv(\"events_with_duration_unc.csv\")"
   ]
  },
  {
   "cell_type": "code",
   "execution_count": null,
   "id": "68507ac4-b5fa-4ac0-a47b-09cec595e0a1",
   "metadata": {},
   "outputs": [],
   "source": [
    "events.head(2)"
   ]
  },
  {
   "cell_type": "markdown",
   "id": "9430b80b-37c0-4a77-a1ed-31467e3071ca",
   "metadata": {},
   "source": [
    "#### Load component-scale leak rate data "
   ]
  },
  {
   "cell_type": "code",
   "execution_count": null,
   "id": "bdc18d95-cb6c-4e3b-81f9-0e15ab2f99b2",
   "metadata": {},
   "outputs": [],
   "source": [
    "leak_rates = pd.read_csv(\"my_leak_rate.csv\")"
   ]
  },
  {
   "cell_type": "code",
   "execution_count": null,
   "id": "50d628d9-d32c-4b17-bf16-fd87dedd1bbc",
   "metadata": {},
   "outputs": [],
   "source": [
    "leak_rates.head(2)"
   ]
  },
  {
   "cell_type": "code",
   "execution_count": null,
   "id": "702f071a-0047-4f9c-bc17-4c20fa3fd136",
   "metadata": {},
   "outputs": [],
   "source": [
    "leaks = list(leak_rates[\"gpersec\"])"
   ]
  },
  {
   "cell_type": "markdown",
   "id": "6bfb8f75-be50-4269-8d33-3fdcbeaeb641",
   "metadata": {},
   "source": [
    "#### Simulate emissions from unresolved events  \n",
    "Based on timestamps of our simulated emission events, our reconciliation period is 6 months from 2023-11-01 to 2024-04-31"
   ]
  },
  {
   "cell_type": "code",
   "execution_count": null,
   "id": "e12c51cb-3f75-4d52-ade2-abedffbea954",
   "metadata": {},
   "outputs": [],
   "source": [
    "# Find timestamps that within the time range of patially-resolved and resolved events \n",
    "events_time = []\n",
    "events_for_sims = []\n",
    "target_datetime = datetime(2023,11,1,0,0)\n",
    "for _,row in events.iterrows():\n",
    "    if pd.notna(row.measured_startTime):\n",
    "        st = row.measured_startTime\n",
    "    else:\n",
    "        st = row.calculated_startTime\n",
    "    st = datetime.strptime(st,'%Y-%m-%d %H:%M') \n",
    "    if pd.notna(row.measured_endTime):\n",
    "        et = row.measured_endTime\n",
    "    else:\n",
    "        et = row.calculated_endTime\n",
    "    et = datetime.strptime(et,'%Y-%m-%d %H:%M')\n",
    "    hour_since_start_time = hours_since_datetime(st,target_datetime)\n",
    "    hour_since_end_time = hours_since_datetime(et,target_datetime)\n",
    "    times = np.arange(hour_since_start_time,hour_since_end_time+1,1)\n",
    "    it = [int(t) for t in times] \n",
    "    events_time += it"
   ]
  },
  {
   "cell_type": "code",
   "execution_count": null,
   "id": "5b47ae06-adb5-4c05-b9a4-98e1bb531702",
   "metadata": {},
   "outputs": [],
   "source": [
    "# non-detection time \n",
    "flyover_nodetection = [datetime(2023, 10, 24, 19, 59),\n",
    "                       datetime(2023, 11, 6, 19, 52),\n",
    "                       datetime(2023, 11, 22, 19, 1),\n",
    "                       datetime(2023, 11, 22, 19, 2),\n",
    "                       datetime(2023, 12, 16, 18, 3),\n",
    "                       datetime(2023, 12, 16, 18, 4),\n",
    "                       datetime(2024, 2, 18, 20, 22),\n",
    "                       datetime(2024, 2, 18, 20, 23),\n",
    "                       datetime(2024, 3, 1, 19, 21),\n",
    "                       datetime(2024, 3, 1, 19, 22)]"
   ]
  },
  {
   "cell_type": "code",
   "execution_count": null,
   "id": "d79ccc19-4a2d-4900-8406-29590984cd93",
   "metadata": {},
   "outputs": [],
   "source": [
    "# flyover passes \n",
    "passes = [1, 1, 2, 3, 3, 2, 2, 2, 3, 3, 3, 1, 1]"
   ]
  },
  {
   "cell_type": "code",
   "execution_count": null,
   "id": "ddb44933-fc53-473a-9854-a96b2c5ca609",
   "metadata": {},
   "outputs": [],
   "source": [
    "Durations = [] \n",
    "for _,row in events.iterrows():\n",
    "    if pd.notna(row.measured_duration):\n",
    "        dur = row.measured_duration\n",
    "        Durations.append(dur)"
   ]
  },
  {
   "cell_type": "code",
   "execution_count": null,
   "id": "8258741b-0de1-46a9-9e31-105ad4a1417d",
   "metadata": {},
   "outputs": [],
   "source": [
    "# calcualte frequency \n",
    "frequency_distribution = Counter(Durations)\n",
    "total_count = len(Durations)\n",
    "# Calculate the probability distribution\n",
    "probability_distribution = {value: frequency / total_count for value, frequency in frequency_distribution.items()}"
   ]
  },
  {
   "cell_type": "code",
   "execution_count": null,
   "id": "1a26014e-1fa4-4d34-aa30-b76817b31ece",
   "metadata": {},
   "outputs": [],
   "source": [
    "# Extract values and their probabilities\n",
    "values = list(probability_distribution.keys())\n",
    "probabilities = list(probability_distribution.values())"
   ]
  },
  {
   "cell_type": "code",
   "execution_count": null,
   "id": "6b7a5194-132c-4d06-9573-ed40bb9b2361",
   "metadata": {},
   "outputs": [],
   "source": [
    "mc = 0\n",
    "MC = 10000 \n",
    "EMs = [] \n",
    "while mc < MC:\n",
    "    E_miss = 0 \n",
    "    target_datetime = datetime(2023,11,1,0,0,0)\n",
    "    init_datetime = datetime(2023,11,1,0,0,0)\n",
    "    while init_datetime < datetime(2024,5,1,0,0,0): \n",
    "        Q_sample = random.sample(leaks,1)[0]\n",
    "        Q_sample = (Q_sample * 3600)/1000 \n",
    "        Q_sample = Q_sample * random.randint(1, 5440)\n",
    "        hour_since_start_time = hours_since_datetime(init_datetime,target_datetime)\n",
    "\n",
    "        if init_datetime not in flyover_nodetection:\n",
    "            # randomly sample a kairos flyover pass \n",
    "            N = random.sample(passes,1)[0]\n",
    "            detection_label = False \n",
    "            for n in range(N): \n",
    "                # get random u (wind speed) - wind speed sample from ERA5  \n",
    "                u = np.random.choice(wind_speed, size = 1)\n",
    "                POD = 1 - (1+(((0.00771)/u**1.41)*Q_sample **1.87)**2)**-1.5\n",
    "                rdp = random.random()\n",
    "                if POD > rdp: \n",
    "                    # detection success \n",
    "                    detection_label = True\n",
    "                    break\n",
    "             \n",
    "            if not detection_label and hour_since_start_time not in events_time: \n",
    "                N = 7 # number of qube sensors installed on site \n",
    "                detection_label = False \n",
    "                for n in range(N): \n",
    "                    # get random u (wind speed) - wind speed sample from ERA5 \n",
    "                    u = np.random.choice(wind_speed, size = 1)\n",
    "                    normQ = Q_sample /u \n",
    "                    POD_cms = 1/(1 + np.exp(-0.309)+np.exp(-1.047*normQ))\n",
    "                    rdp = random.random()\n",
    "                    if POD_cms > rdp: \n",
    "                        # detection success \n",
    "                        detection_label = True\n",
    "                        break\n",
    "                        \n",
    "            if not detection_label:\n",
    "                sampled_duration = random.choices(values, weights=probabilities, k=1)[0]\n",
    "                E_miss += Q_sample * sampled_duration\n",
    "                init_datetime += timedelta(hours=int(sampled_duration))\n",
    "            else:\n",
    "                init_datetime += timedelta(hours=1)\n",
    "        else: \n",
    "            init_datetime += timedelta(hours=1)\n",
    "        \n",
    "    if (mc % 100) == 0: \n",
    "        print(mc)\n",
    "    EMs.append(E_miss)\n",
    "    mc += 1 \n",
    "    "
   ]
  },
  {
   "cell_type": "code",
   "execution_count": null,
   "id": "8ea431c3-6a20-40b7-8a4c-80e4927170a6",
   "metadata": {},
   "outputs": [],
   "source": [
    "len(EMs)"
   ]
  },
  {
   "cell_type": "code",
   "execution_count": null,
   "id": "0a5f98c4-0b5d-4534-aca0-86f39d45440d",
   "metadata": {},
   "outputs": [],
   "source": [
    "np.mean(EMS), np.std(EMs)"
   ]
  },
  {
   "cell_type": "code",
   "execution_count": null,
   "id": "cfa8d8dc-172a-4b13-b070-0be0756ce4b8",
   "metadata": {},
   "outputs": [],
   "source": [
    "UEEs = {\"Emissions_from_unresovled_event\":EMs}"
   ]
  },
  {
   "cell_type": "code",
   "execution_count": null,
   "id": "305a3096-5f4d-458b-89a4-fb6282de751b",
   "metadata": {},
   "outputs": [],
   "source": [
    "df = pd.DataFrame(UEEs)"
   ]
  },
  {
   "cell_type": "code",
   "execution_count": null,
   "id": "9ee9f1d7-be88-4804-b614-cc8e5f3fb079",
   "metadata": {},
   "outputs": [],
   "source": [
    "df.head(2)"
   ]
  },
  {
   "cell_type": "code",
   "execution_count": null,
   "id": "11ecee3b-3e40-423d-a4b2-074866f59373",
   "metadata": {},
   "outputs": [],
   "source": [
    "df.to_csv(\"Emissions_from_unresolved_event.csv\")"
   ]
  },
  {
   "cell_type": "code",
   "execution_count": null,
   "id": "9bf94296-2780-436b-83ad-3fdaa1cdd818",
   "metadata": {},
   "outputs": [],
   "source": []
  }
 ],
 "metadata": {
  "kernelspec": {
   "display_name": "Python 3 (ipykernel)",
   "language": "python",
   "name": "python3"
  },
  "language_info": {
   "codemirror_mode": {
    "name": "ipython",
    "version": 3
   },
   "file_extension": ".py",
   "mimetype": "text/x-python",
   "name": "python",
   "nbconvert_exporter": "python",
   "pygments_lexer": "ipython3",
   "version": "3.10.14"
  }
 },
 "nbformat": 4,
 "nbformat_minor": 5
}
