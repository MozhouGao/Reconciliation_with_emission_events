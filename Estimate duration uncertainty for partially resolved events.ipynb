{
 "cells": [
  {
   "cell_type": "code",
   "execution_count": 20,
   "id": "8f983fb6-2aa6-4479-8fb5-d9aca9b16b0c",
   "metadata": {},
   "outputs": [],
   "source": [
    "import pandas as pd\n",
    "from datetime import datetime, timedelta\n",
    "import numpy as np\n",
    "import matplotlib.pyplot as plt "
   ]
  },
  {
   "cell_type": "markdown",
   "id": "ac6ad337-0a1b-4e6a-9ced-f33d5c7b852d",
   "metadata": {},
   "source": [
    "#### Load merged events "
   ]
  },
  {
   "cell_type": "code",
   "execution_count": 22,
   "id": "21f8f97a-949d-4114-a92b-bfab41eb50d9",
   "metadata": {},
   "outputs": [],
   "source": [
    "events = pd.read_csv(\"merged_events.csv\")"
   ]
  },
  {
   "cell_type": "code",
   "execution_count": 23,
   "id": "ccf05e36-eb2a-4d30-8ba8-62b33f8031ab",
   "metadata": {},
   "outputs": [
    {
     "data": {
      "text/html": [
       "<div>\n",
       "<style scoped>\n",
       "    .dataframe tbody tr th:only-of-type {\n",
       "        vertical-align: middle;\n",
       "    }\n",
       "\n",
       "    .dataframe tbody tr th {\n",
       "        vertical-align: top;\n",
       "    }\n",
       "\n",
       "    .dataframe thead th {\n",
       "        text-align: right;\n",
       "    }\n",
       "</style>\n",
       "<table border=\"1\" class=\"dataframe\">\n",
       "  <thead>\n",
       "    <tr style=\"text-align: right;\">\n",
       "      <th></th>\n",
       "      <th>id</th>\n",
       "      <th>siteId</th>\n",
       "      <th>equipmentId</th>\n",
       "      <th>eventType</th>\n",
       "      <th>measured_rate</th>\n",
       "      <th>measured_duration</th>\n",
       "      <th>measured_quantity</th>\n",
       "      <th>measured_startTime</th>\n",
       "      <th>measured_endTime</th>\n",
       "      <th>calculated_duration</th>\n",
       "      <th>calculated_quantity</th>\n",
       "      <th>calculated_startTime</th>\n",
       "      <th>calculated_endTime</th>\n",
       "    </tr>\n",
       "  </thead>\n",
       "  <tbody>\n",
       "    <tr>\n",
       "      <th>0</th>\n",
       "      <td>e71e4e06-1940-4047-87df-2628de6fb5d6</td>\n",
       "      <td>SU-SITE-001</td>\n",
       "      <td>SU-SITE-001</td>\n",
       "      <td>Resolved Event</td>\n",
       "      <td>299.220075</td>\n",
       "      <td>0.066667</td>\n",
       "      <td>19.948005</td>\n",
       "      <td>2024-04-23 13:02</td>\n",
       "      <td>2024-04-23 13:06</td>\n",
       "      <td>1444.633333</td>\n",
       "      <td>27803.370987</td>\n",
       "      <td>2024-03-01 19:22</td>\n",
       "      <td>2024-05-01 0:00</td>\n",
       "    </tr>\n",
       "    <tr>\n",
       "      <th>1</th>\n",
       "      <td>a85cb48e-c74a-4e3e-befa-21b16191516e</td>\n",
       "      <td>SU-SITE-001</td>\n",
       "      <td>SU-SITE-001</td>\n",
       "      <td>Resolved Event</td>\n",
       "      <td>NaN</td>\n",
       "      <td>NaN</td>\n",
       "      <td>NaN</td>\n",
       "      <td>NaN</td>\n",
       "      <td>NaN</td>\n",
       "      <td>0.100000</td>\n",
       "      <td>18.410886</td>\n",
       "      <td>2024-04-19 15:57</td>\n",
       "      <td>2024-04-19 16:03</td>\n",
       "    </tr>\n",
       "  </tbody>\n",
       "</table>\n",
       "</div>"
      ],
      "text/plain": [
       "                                     id       siteId  equipmentId  \\\n",
       "0  e71e4e06-1940-4047-87df-2628de6fb5d6  SU-SITE-001  SU-SITE-001   \n",
       "1  a85cb48e-c74a-4e3e-befa-21b16191516e  SU-SITE-001  SU-SITE-001   \n",
       "\n",
       "        eventType  measured_rate  measured_duration  measured_quantity  \\\n",
       "0  Resolved Event     299.220075           0.066667          19.948005   \n",
       "1  Resolved Event            NaN                NaN                NaN   \n",
       "\n",
       "  measured_startTime  measured_endTime  calculated_duration  \\\n",
       "0   2024-04-23 13:02  2024-04-23 13:06          1444.633333   \n",
       "1                NaN               NaN             0.100000   \n",
       "\n",
       "   calculated_quantity calculated_startTime calculated_endTime  \n",
       "0         27803.370987     2024-03-01 19:22    2024-05-01 0:00  \n",
       "1            18.410886     2024-04-19 15:57   2024-04-19 16:03  "
      ]
     },
     "execution_count": 23,
     "metadata": {},
     "output_type": "execute_result"
    }
   ],
   "source": [
    "events.head(2)"
   ]
  },
  {
   "cell_type": "code",
   "execution_count": 24,
   "id": "217cb6b1-44b0-4b3e-b979-b19f9f6075d6",
   "metadata": {},
   "outputs": [
    {
     "data": {
      "text/plain": [
       "143"
      ]
     },
     "execution_count": 24,
     "metadata": {},
     "output_type": "execute_result"
    }
   ],
   "source": [
    "len(events)"
   ]
  },
  {
   "cell_type": "code",
   "execution_count": 25,
   "id": "b7f0cf5d-c048-47d1-8966-f6b434629873",
   "metadata": {},
   "outputs": [
    {
     "name": "stdout",
     "output_type": "stream",
     "text": [
      "SU-SITE-001\n",
      "SU-SITE-001-CGL2\n",
      "SU-SITE-001-CGL5\n",
      "SU-SITE-001-CGL6\n",
      "SU-SITE-001-CGL3\n",
      "SU-SITE-001-CGL1\n",
      "SU-SITE-001-DEHY2\n",
      "SU-SITE-001-PSEP3\n",
      "SU-SITE-001-PSEP1\n",
      "SU-SITE-001-CGL7\n",
      "SU-SITE-001-OVRT1\n",
      "SU-SITE-001-0000010\n",
      "SU-SITE-001-PNEU\n",
      "SU-SITE-001-DEHY1\n"
     ]
    }
   ],
   "source": [
    "LPR = 0.006 # leak production rate (unit is per site per day)\n",
    "operator_bonus = 0.5 \n",
    "Q_max = events.measured_rate.max()\n",
    "for eq in events[\"equipmentId\"].unique():\n",
    "    edf = events[events[\"equipmentId\"] == eq]\n",
    "    print(eq)\n",
    "    i = 0 \n",
    "    for index,row in edf.iterrows():\n",
    "        if row.eventType == \"Partially Resovled Event\": \n",
    "            st = datetime.strptime(row.measured_startTime,'%Y-%m-%d %H:%M')\n",
    "            et = datetime.strptime(row.measured_endTime,'%Y-%m-%d %H:%M')\n",
    "            rate = row.measured_rate\n",
    "            duration = row.measured_duration\n",
    "            # determine simulation start time \n",
    "            if i == 0: \n",
    "                sim_start_time = st - timedelta(days=30)\n",
    "            else:\n",
    "                if pd.notna(edf[\"calculated_endTime\"].iloc[i-1]):\n",
    "                    sim_start_time = edf[\"calculated_endTime\"].iloc[i-1]\n",
    "                else:\n",
    "                    sim_start_time = edf[\"measured_endTime\"].iloc[i-1]\n",
    "                sim_start_time = datetime.strptime(sim_start_time,'%Y-%m-%d %H:%M')\n",
    "            # determine simulation end time\n",
    "            if i == len(edf)-1: \n",
    "                sim_end_time = et + timedelta(days=30)\n",
    "            else: \n",
    "                if pd.notna(edf[\"calculated_startTime\"].iloc[i+1]):\n",
    "                    sim_end_time = edf[\"calculated_startTime\"].iloc[i+1]\n",
    "                else:\n",
    "                    sim_end_time = edf[\"measured_startTime\"].iloc[i+1]\n",
    "                sim_end_time = datetime.strptime(sim_end_time,'%Y-%m-%d %H:%M')\n",
    "            \n",
    "            # start simulation \n",
    "            # check number of days between simulation start and end times\n",
    "            days = (sim_end_time -  sim_start_time).days\n",
    "            #mc_total = 100000 #- > for study \n",
    "            mc_total = 10000\n",
    "            mc = 0\n",
    "            duration_diff_dist =[]\n",
    "            duration_dist = [] \n",
    "            while mc < mc_total:\n",
    "                event_generation = False \n",
    "                sim_st = None \n",
    "                sim_et = None \n",
    "                for hr in range(days): \n",
    "                    if not event_generation: \n",
    "                        sample_leak = np.random.binomial(1, LPR, 1)[0]\n",
    "                        if sample_leak == 1: \n",
    "                            event_generation = True\n",
    "                            sim_st = hr+1 \n",
    "                    else: \n",
    "                        # calcualte NRR see Fox et al., 2021 supporting document \n",
    "                        NRR = ((LPR)*7/1) * (1/10) +  (operator_bonus*rate)/Q_max\n",
    "                        sample_repair = np.random.binomial(1, NRR, 1)[0]\n",
    "                        if sample_repair == 1:\n",
    "                            sim_et = hr+1\n",
    "                            break \n",
    "\n",
    "                if sim_st == None and sim_et == None: \n",
    "                    sim_duration = duration\n",
    "                elif sim_st != None and sim_et == None:\n",
    "                    sim_duration = (days - sim_st) * 24 \n",
    "                else:\n",
    "                    sim_duration = (sim_et - sim_st) *24\n",
    "                diff_duration = sim_duration - duration  \n",
    "                duration_diff_dist.append(diff_duration)\n",
    "                duration_dist.append(sim_duration)\n",
    "                mc += 1 \n",
    "            mean_sim_duration = np.mean(duration_dist) \n",
    "            std_sim_duration = np.std(duration_dist)\n",
    "            mean_sim_duration_diff = np.mean(duration_diff_dist) \n",
    "            std_sim_duration_diff = np.std(duration_diff_dist)\n",
    "            events.at[index, 'sim_duration_mean'] = mean_sim_duration\n",
    "            events.at[index, 'sim_duration_std'] = mean_sim_duration\n",
    "            events.at[index, 'duration_diff_mean'] = mean_sim_duration_diff\n",
    "            events.at[index, 'duration_diff_std'] = std_sim_duration_diff\n",
    "        i += 1 "
   ]
  },
  {
   "cell_type": "code",
   "execution_count": 26,
   "id": "c52a7356-8671-4789-bfcb-8f551d81b99e",
   "metadata": {},
   "outputs": [
    {
     "data": {
      "text/html": [
       "<div>\n",
       "<style scoped>\n",
       "    .dataframe tbody tr th:only-of-type {\n",
       "        vertical-align: middle;\n",
       "    }\n",
       "\n",
       "    .dataframe tbody tr th {\n",
       "        vertical-align: top;\n",
       "    }\n",
       "\n",
       "    .dataframe thead th {\n",
       "        text-align: right;\n",
       "    }\n",
       "</style>\n",
       "<table border=\"1\" class=\"dataframe\">\n",
       "  <thead>\n",
       "    <tr style=\"text-align: right;\">\n",
       "      <th></th>\n",
       "      <th>id</th>\n",
       "      <th>siteId</th>\n",
       "      <th>equipmentId</th>\n",
       "      <th>eventType</th>\n",
       "      <th>measured_rate</th>\n",
       "      <th>measured_duration</th>\n",
       "      <th>measured_quantity</th>\n",
       "      <th>measured_startTime</th>\n",
       "      <th>measured_endTime</th>\n",
       "      <th>calculated_duration</th>\n",
       "      <th>calculated_quantity</th>\n",
       "      <th>calculated_startTime</th>\n",
       "      <th>calculated_endTime</th>\n",
       "      <th>sim_duration_mean</th>\n",
       "      <th>sim_duration_std</th>\n",
       "      <th>duration_diff_mean</th>\n",
       "      <th>duration_diff_std</th>\n",
       "    </tr>\n",
       "  </thead>\n",
       "  <tbody>\n",
       "    <tr>\n",
       "      <th>0</th>\n",
       "      <td>e71e4e06-1940-4047-87df-2628de6fb5d6</td>\n",
       "      <td>SU-SITE-001</td>\n",
       "      <td>SU-SITE-001</td>\n",
       "      <td>Resolved Event</td>\n",
       "      <td>299.220075</td>\n",
       "      <td>0.066667</td>\n",
       "      <td>19.948005</td>\n",
       "      <td>2024-04-23 13:02</td>\n",
       "      <td>2024-04-23 13:06</td>\n",
       "      <td>1444.633333</td>\n",
       "      <td>27803.370987</td>\n",
       "      <td>2024-03-01 19:22</td>\n",
       "      <td>2024-05-01 0:00</td>\n",
       "      <td>NaN</td>\n",
       "      <td>NaN</td>\n",
       "      <td>NaN</td>\n",
       "      <td>NaN</td>\n",
       "    </tr>\n",
       "    <tr>\n",
       "      <th>1</th>\n",
       "      <td>a85cb48e-c74a-4e3e-befa-21b16191516e</td>\n",
       "      <td>SU-SITE-001</td>\n",
       "      <td>SU-SITE-001</td>\n",
       "      <td>Resolved Event</td>\n",
       "      <td>NaN</td>\n",
       "      <td>NaN</td>\n",
       "      <td>NaN</td>\n",
       "      <td>NaN</td>\n",
       "      <td>NaN</td>\n",
       "      <td>0.100000</td>\n",
       "      <td>18.410886</td>\n",
       "      <td>2024-04-19 15:57</td>\n",
       "      <td>2024-04-19 16:03</td>\n",
       "      <td>NaN</td>\n",
       "      <td>NaN</td>\n",
       "      <td>NaN</td>\n",
       "      <td>NaN</td>\n",
       "    </tr>\n",
       "  </tbody>\n",
       "</table>\n",
       "</div>"
      ],
      "text/plain": [
       "                                     id       siteId  equipmentId  \\\n",
       "0  e71e4e06-1940-4047-87df-2628de6fb5d6  SU-SITE-001  SU-SITE-001   \n",
       "1  a85cb48e-c74a-4e3e-befa-21b16191516e  SU-SITE-001  SU-SITE-001   \n",
       "\n",
       "        eventType  measured_rate  measured_duration  measured_quantity  \\\n",
       "0  Resolved Event     299.220075           0.066667          19.948005   \n",
       "1  Resolved Event            NaN                NaN                NaN   \n",
       "\n",
       "  measured_startTime  measured_endTime  calculated_duration  \\\n",
       "0   2024-04-23 13:02  2024-04-23 13:06          1444.633333   \n",
       "1                NaN               NaN             0.100000   \n",
       "\n",
       "   calculated_quantity calculated_startTime calculated_endTime  \\\n",
       "0         27803.370987     2024-03-01 19:22    2024-05-01 0:00   \n",
       "1            18.410886     2024-04-19 15:57   2024-04-19 16:03   \n",
       "\n",
       "   sim_duration_mean  sim_duration_std  duration_diff_mean  duration_diff_std  \n",
       "0                NaN               NaN                 NaN                NaN  \n",
       "1                NaN               NaN                 NaN                NaN  "
      ]
     },
     "execution_count": 26,
     "metadata": {},
     "output_type": "execute_result"
    }
   ],
   "source": [
    "events.head(2)"
   ]
  },
  {
   "cell_type": "code",
   "execution_count": 29,
   "id": "2aa7e138-5569-423c-8a9c-1585bf4c709d",
   "metadata": {},
   "outputs": [
    {
     "data": {
      "image/png": "[encoded data removed]",
      "text/plain": [
       "<Figure size 640x480 with 1 Axes>"
      ]
     },
     "metadata": {},
     "output_type": "display_data"
    }
   ],
   "source": [
    "# plot duration uncertainty \n",
    "plt.hist(events.duration_diff_mean)\n",
    "plt.show()"
   ]
  },
  {
   "cell_type": "code",
   "execution_count": 30,
   "id": "10c53a64-6b36-4435-9b10-5a23ff56d459",
   "metadata": {},
   "outputs": [],
   "source": [
    "events.to_csv(\"events_with_duration_unc.csv\",sep=',', index=False)"
   ]
  },
  {
   "cell_type": "code",
   "execution_count": null,
   "id": "2c959eba-a923-4840-8a91-fbe09264a928",
   "metadata": {},
   "outputs": [],
   "source": []
  }
 ],
 "metadata": {
  "kernelspec": {
   "display_name": "Python 3 (ipykernel)",
   "language": "python",
   "name": "python3"
  },
  "language_info": {
   "codemirror_mode": {
    "name": "ipython",
    "version": 3
   },
   "file_extension": ".py",
   "mimetype": "text/x-python",
   "name": "python",
   "nbconvert_exporter": "python",
   "pygments_lexer": "ipython3",
   "version": "3.10.14"
  }
 },
 "nbformat": 4,
 "nbformat_minor": 5
}
