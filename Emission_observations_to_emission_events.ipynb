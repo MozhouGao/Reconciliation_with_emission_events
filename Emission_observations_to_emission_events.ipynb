{
 "cells": [
  {
   "cell_type": "code",
   "execution_count": 31,
   "id": "1bf91e20-ae52-429c-b7ac-721244e9dd79",
   "metadata": {},
   "outputs": [],
   "source": [
    "import pandas as pd \n",
    "import matplotlib.pyplot as plt "
   ]
  },
  {
   "cell_type": "markdown",
   "id": "0f0dddac-ab58-4e93-ade5-2a1f01162b64",
   "metadata": {},
   "source": [
    "### Load initial emission events created using simulated emission observations\n",
    "##### each emission observation is one event "
   ]
  },
  {
   "cell_type": "code",
   "execution_count": 32,
   "id": "d5ae7a79-7645-4b6f-b80c-e028d074e88a",
   "metadata": {},
   "outputs": [],
   "source": [
    "df = pd.read_csv(\"Sample_site_simulated_observations_initial_events.csv\",sep=',')"
   ]
  },
  {
   "cell_type": "code",
   "execution_count": 33,
   "id": "baf3aee4-80fb-4b37-b8d5-de23a9a9c3bb",
   "metadata": {},
   "outputs": [
    {
     "data": {
      "text/html": [
       "<div>\n",
       "<style scoped>\n",
       "    .dataframe tbody tr th:only-of-type {\n",
       "        vertical-align: middle;\n",
       "    }\n",
       "\n",
       "    .dataframe tbody tr th {\n",
       "        vertical-align: top;\n",
       "    }\n",
       "\n",
       "    .dataframe thead th {\n",
       "        text-align: right;\n",
       "    }\n",
       "</style>\n",
       "<table border=\"1\" class=\"dataframe\">\n",
       "  <thead>\n",
       "    <tr style=\"text-align: right;\">\n",
       "      <th></th>\n",
       "      <th>id</th>\n",
       "      <th>siteId</th>\n",
       "      <th>equipmentId</th>\n",
       "      <th>eventType</th>\n",
       "      <th>duration</th>\n",
       "      <th>detectedAt</th>\n",
       "      <th>startTime</th>\n",
       "      <th>endTime</th>\n",
       "      <th>rate</th>\n",
       "      <th>type</th>\n",
       "      <th>obs_names</th>\n",
       "    </tr>\n",
       "  </thead>\n",
       "  <tbody>\n",
       "    <tr>\n",
       "      <th>0</th>\n",
       "      <td>e71e4e06-1940-4047-87df-2628de6fb5d6</td>\n",
       "      <td>SU-SITE-001</td>\n",
       "      <td>SU-SITE-001</td>\n",
       "      <td>Resolved Event</td>\n",
       "      <td>0.066667</td>\n",
       "      <td>2024-04-23 13:02</td>\n",
       "      <td>2024-04-23 13:02</td>\n",
       "      <td>2024-04-23 13:06</td>\n",
       "      <td>299.220075</td>\n",
       "      <td>ops</td>\n",
       "      <td>Vent-01</td>\n",
       "    </tr>\n",
       "    <tr>\n",
       "      <th>1</th>\n",
       "      <td>a85cb48e-c74a-4e3e-befa-21b16191516e</td>\n",
       "      <td>SU-SITE-001</td>\n",
       "      <td>SU-SITE-001</td>\n",
       "      <td>Resolved Event</td>\n",
       "      <td>0.100000</td>\n",
       "      <td>2024-04-19 15:57</td>\n",
       "      <td>2024-04-19 15:57</td>\n",
       "      <td>2024-04-19 16:03</td>\n",
       "      <td>184.108860</td>\n",
       "      <td>ops</td>\n",
       "      <td>Vent-02</td>\n",
       "    </tr>\n",
       "  </tbody>\n",
       "</table>\n",
       "</div>"
      ],
      "text/plain": [
       "                                     id       siteId  equipmentId  \\\n",
       "0  e71e4e06-1940-4047-87df-2628de6fb5d6  SU-SITE-001  SU-SITE-001   \n",
       "1  a85cb48e-c74a-4e3e-befa-21b16191516e  SU-SITE-001  SU-SITE-001   \n",
       "\n",
       "        eventType  duration        detectedAt         startTime  \\\n",
       "0  Resolved Event  0.066667  2024-04-23 13:02  2024-04-23 13:02   \n",
       "1  Resolved Event  0.100000  2024-04-19 15:57  2024-04-19 15:57   \n",
       "\n",
       "            endTime        rate type obs_names  \n",
       "0  2024-04-23 13:06  299.220075  ops   Vent-01  \n",
       "1  2024-04-19 16:03  184.108860  ops   Vent-02  "
      ]
     },
     "execution_count": 33,
     "metadata": {},
     "output_type": "execute_result"
    }
   ],
   "source": [
    "df.head(2)"
   ]
  },
  {
   "cell_type": "code",
   "execution_count": 34,
   "id": "ae3d7d43-a2e2-4d66-8898-a24f824b9ba2",
   "metadata": {},
   "outputs": [
    {
     "data": {
      "text/plain": [
       "Index(['id', 'siteId', 'equipmentId', 'eventType', 'duration', 'detectedAt',\n",
       "       'startTime', 'endTime', 'rate', 'type', 'obs_names'],\n",
       "      dtype='object')"
      ]
     },
     "execution_count": 34,
     "metadata": {},
     "output_type": "execute_result"
    }
   ],
   "source": [
    "#show attributes of emission event \n",
    "df.columns"
   ]
  },
  {
   "cell_type": "markdown",
   "id": "298a0129-0541-4600-9de4-95f83607db4e",
   "metadata": {},
   "source": [
    "##### description of emission observation data\n",
    "- **id**: unique ID\n",
    "- **siteId**: site ID of the fictitious site.\n",
    "- **equipmentId**: equipment ID of for each piece of equipment in the fictitious site.\n",
    "- **eventType**: event type of the initial event.\n",
    "- **duration**: duration of the event.\n",
    "- **detecetdAt**: detection time of each event.\n",
    "  - For flyover, detectedAt is the time when plume detected by aircraft.\n",
    "  - For CMS, detectedAt is the time when CMS alarm is triggered.\n",
    "  - For operational events, detectedat is the start time of the operation.\n",
    "- **startTime**: start time of the event.\n",
    "- **endTime**: end time of the event.\n",
    "- **rate**: flux rate of the emission.\n",
    "- **type**: ops, flyover, cms indicating the type of the observation used to create initial event.\n",
    "- **obs_name**: unique name of the observation used to create initial event. "
   ]
  },
  {
   "cell_type": "code",
   "execution_count": 37,
   "id": "48f32461-b12d-4b4e-85aa-45250bb61b81",
   "metadata": {},
   "outputs": [
    {
     "name": "stdout",
     "output_type": "stream",
     "text": [
      "eventType\n",
      "Partially Resovled Event    99\n",
      "Resolved Event              73\n",
      "Name: count, dtype: int64\n"
     ]
    },
    {
     "data": {
      "image/png": "[encoded data removed]",
      "text/plain": [
       "<Figure size 640x480 with 1 Axes>"
      ]
     },
     "metadata": {},
     "output_type": "display_data"
    }
   ],
   "source": [
    "event_counts = df['eventType'].value_counts()\n",
    "print(event_counts)\n",
    "event_counts.plot(kind='bar')\n",
    "plt.show()"
   ]
  },
  {
   "cell_type": "markdown",
   "id": "e6a7fea9-3b0f-46e2-9843-a9decc74e457",
   "metadata": {},
   "source": [
    "### Merge events based on spatio-temporal correlations  \n",
    "- Spatial aspect can be checked by using equipmentId associated with each event since they represnets the attributed physical source of a given event.\n",
    "- Temporal aspect is checked by following temporal rules: temporal intersection and temporal inclusion. "
   ]
  },
  {
   "cell_type": "code",
   "execution_count": 38,
   "id": "4177c982-1092-4d6b-ad3d-96e0b8058e46",
   "metadata": {},
   "outputs": [],
   "source": [
    "# Function to check if two intervals overlap, detection_time is within the range, and equipmentId is the same\n",
    "def is_overlapping(start1, end1, detection_time1, start2, end2, detection_time2, equipmentId1, equipmentId2):\n",
    "    return (not (end1 <= start2 or start1 >= end2)) and ((start1 <= detection_time2 <= end1) or (start2 <= detection_time1 <= end2) )and (equipmentId1 == equipmentId2)"
   ]
  },
  {
   "cell_type": "code",
   "execution_count": 39,
   "id": "e60d21bc-d3f8-40c5-ac61-726dcadd75fb",
   "metadata": {},
   "outputs": [],
   "source": [
    "# Function to assign labels after event merge iteratively \n",
    "def assign_labels(df):\n",
    "    current_label = 1\n",
    "    while df['label'].isnull().any():\n",
    "        # Find the index of the first unlabelled row\n",
    "        idx = df.index[df['label'].isnull()].min()\n",
    "        # Get the start, end, detection time, and equipmentId of this row\n",
    "        start_time = df.at[idx, 'startTime']\n",
    "        end_time = df.at[idx, 'endTime']\n",
    "        detection_time = df.at[idx, 'detectedAt']\n",
    "        equipmentId = df.at[idx, 'equipmentId']\n",
    "        # Create a list of indices to process\n",
    "        indices_to_process = [idx]\n",
    "        \n",
    "        while indices_to_process:\n",
    "            current_idx = indices_to_process.pop(0)\n",
    "            df.at[current_idx, 'label'] = current_label\n",
    "            # Find all rows that overlap with the current row, have detection_time within range, and the same equipmentId\n",
    "            overlapping_indices = df.index[(df['label'].isnull()) & \n",
    "                                           (df.apply(lambda row: is_overlapping(start_time, end_time, detection_time, \n",
    "                                                                                row['startTime'], row['endTime'], \n",
    "                                                                                row['detectedAt'], equipmentId, \n",
    "                                                                                row['equipmentId']), axis=1))].tolist()\n",
    "            # Add these overlapping indices to the list of indices to process\n",
    "            indices_to_process.extend(overlapping_indices)\n",
    "        \n",
    "        current_label += 1"
   ]
  },
  {
   "cell_type": "code",
   "execution_count": 47,
   "id": "0714d89c-34c9-4eec-a3b5-3ca2dcc8196b",
   "metadata": {},
   "outputs": [],
   "source": [
    "# assign label to each event based on spatio-temporal correlation\n",
    "df['label'] = pd.Series(dtype='int')\n",
    "assign_labels(df)"
   ]
  },
  {
   "cell_type": "code",
   "execution_count": 48,
   "id": "474a08a6-75e5-4a75-83ed-8dd45bb99aa5",
   "metadata": {},
   "outputs": [
    {
     "data": {
      "text/plain": [
       "array([  1.,   2.,   3.,   4.,   5.,   6.,   7.,   8.,   9.,  10.,  11.,\n",
       "        12.,  13.,  14.,  15.,  16.,  17.,  18.,  19.,  20.,  21.,  22.,\n",
       "        23.,  24.,  25.,  26.,  27.,  28.,  29.,  30.,  31.,  32.,  33.,\n",
       "        34.,  35.,  36.,  37.,  38.,  39.,  40.,  41.,  42.,  43.,  44.,\n",
       "        45.,  46.,  47.,  48.,  49.,  50.,  51.,  52.,  53.,  54.,  55.,\n",
       "        56.,  57.,  58.,  59.,  60.,  61.,  62.,  63.,  64.,  65.,  66.,\n",
       "        67.,  68.,  69.,  70.,  71.,  72.,  73.,  74.,  75.,  76.,  77.,\n",
       "        78.,  79.,  80.,  81.,  82.,  83.,  84.,  85.,  86.,  87.,  88.,\n",
       "        89.,  90.,  91.,  92.,  93.,  94.,  95.,  96.,  97.,  98.,  99.,\n",
       "       100., 101., 102., 103., 104., 105., 106., 107., 108., 109., 110.,\n",
       "       111., 112., 113., 114., 115., 116., 117., 118., 119., 120., 121.,\n",
       "       122., 123., 124., 125., 126., 127., 128., 129., 130., 131., 132.,\n",
       "       133., 134., 135., 136., 137., 138., 139., 140., 141., 142., 143.])"
      ]
     },
     "execution_count": 48,
     "metadata": {},
     "output_type": "execute_result"
    }
   ],
   "source": [
    "df[\"label\"].unique()"
   ]
  },
  {
   "cell_type": "code",
   "execution_count": 49,
   "id": "3cde97ee-27e1-4c09-8d22-1f0ab092e0df",
   "metadata": {},
   "outputs": [],
   "source": [
    "# assign unique event name to each event before merge \n",
    "event_names = [] \n",
    "for _,row in df.iterrows(): \n",
    "    event_names.append(f\"Event-{str(int(row.label)).zfill(2)}\")  "
   ]
  },
  {
   "cell_type": "code",
   "execution_count": 50,
   "id": "3cd82f7e-b92d-4ce8-927c-192bae11f202",
   "metadata": {},
   "outputs": [],
   "source": [
    "df[\"event_names\"] = event_names"
   ]
  },
  {
   "cell_type": "code",
   "execution_count": 59,
   "id": "11d977e0-a111-41fc-9ee4-4539b25b3481",
   "metadata": {},
   "outputs": [],
   "source": [
    "# merge event based on spatio-temporal correlations\n",
    "# merged events will be used in the reconciliation  \n",
    "merged_event = [] \n",
    "re_rates = [] \n",
    "test = []\n",
    "j = 172\n",
    "for la in df[\"label\"].unique():\n",
    "    ldf = df[df[\"label\"] == la] \n",
    "    if len(ldf) == 1:\n",
    "        obsType = ldf.type.iloc[0]\n",
    "        if obsType == \"ops\":\n",
    "           measured_rate = None \n",
    "           measured_duration = None \n",
    "           measured_startTime = None \n",
    "           measured_endTime = None\n",
    "           measured_quantity = None\n",
    "           calculated_duration = ldf.duration.iloc[0] \n",
    "           calculated_quantity = ldf.rate.iloc[0] * ldf.duration.iloc[0] \n",
    "           calculated_startTime = ldf.startTime.iloc[0] \n",
    "           calculated_endTime = ldf.endTime.iloc[0] \n",
    "        else: \n",
    "           calculated_duration = None \n",
    "           calculated_quantity = None \n",
    "           calculated_startTime = None \n",
    "           calculated_endTime = None \n",
    "           measured_rate =ldf.rate.iloc[0]\n",
    "           measured_duration = ldf.duration.iloc[0] \n",
    "           measured_startTime = ldf.startTime.iloc[0] \n",
    "           measured_endTime = ldf.endTime.iloc[0] \n",
    "           measured_quantity = measured_rate * measured_duration\n",
    "        merged_event.append({\n",
    "            \"id\":ldf.id.iloc[0],\n",
    "            \"siteId\": \"SU-SITE-001\",\n",
    "            \"equipmentId\": ldf.equipmentId.iloc[0],\n",
    "            \"eventType\": ldf.eventType.iloc[0],\n",
    "            \"measured_rate\":measured_rate,\n",
    "            \"measured_duration\":measured_duration,\n",
    "            \"measured_quantity\":measured_quantity,\n",
    "            \"measured_startTime\": measured_startTime, \n",
    "            \"measured_endTime\": measured_endTime, \n",
    "            \"calculated_duration\":calculated_duration,\n",
    "            \"calculated_quantity\":calculated_quantity,\n",
    "            \"calculated_startTime\": calculated_startTime, \n",
    "            \"calculated_endTime\": calculated_endTime,\n",
    "        })\n",
    "    else: \n",
    "        flyover_rate = ldf.rate.iloc[0]\n",
    "        flyover_duration = ldf.duration.iloc[0]\n",
    "        flyover_quantity = flyover_rate * flyover_duration\n",
    "\n",
    "        vfb_quantity = 0 \n",
    "        vfb_duration = 0\n",
    "        for index,row in ldf.iterrows():\n",
    "            if index > 0: \n",
    "                vfb_quantity += row.rate * row.duration\n",
    "                vfb_duration += row.duration\n",
    "        merged_event.append({\n",
    "                \"id\": ldf.id.iloc[0],\n",
    "                \"siteId\":\"SU-SITE-001\",\n",
    "                \"equipmentId\":ldf.equipmentId.iloc[0],\n",
    "                \"eventType\":\"Resolved Event\",\n",
    "                \"measured_rate\":flyover_rate,\n",
    "                \"measured_duration\":flyover_duration,\n",
    "                \"measured_quantity\":flyover_quantity,\n",
    "                \"measured_startTime\": ldf.startTime.iloc[0], \n",
    "                \"measured_endTime\": ldf.endTime.iloc[0], \n",
    "                \"calculated_duration\":vfb_duration,\n",
    "                \"calculated_quantity\":vfb_quantity,\n",
    "                \"calculated_startTime\": ldf.startTime.iloc[1], \n",
    "                \"calculated_endTime\": ldf.endTime.iloc[-1], \n",
    "                })\n",
    "    j += 1 "
   ]
  },
  {
   "cell_type": "code",
   "execution_count": 60,
   "id": "563b8968-4f2c-4c5d-b9a6-6abaccc4cbb2",
   "metadata": {},
   "outputs": [],
   "source": [
    "m_events = pd.DataFrame(merged_event)"
   ]
  },
  {
   "cell_type": "code",
   "execution_count": 61,
   "id": "9d5f04ce-ed33-43d9-9e05-772bb14f5f8a",
   "metadata": {},
   "outputs": [
    {
     "name": "stdout",
     "output_type": "stream",
     "text": [
      "eventType\n",
      "Resolved Event              90\n",
      "Partially Resovled Event    53\n",
      "Name: count, dtype: int64\n"
     ]
    },
    {
     "data": {
      "image/png": "[encoded data removed]",
      "text/plain": [
       "<Figure size 640x480 with 1 Axes>"
      ]
     },
     "metadata": {},
     "output_type": "display_data"
    }
   ],
   "source": [
    "event_counts = m_event['eventType'].value_counts()\n",
    "print(event_counts)\n",
    "event_counts.plot(kind='bar')\n",
    "plt.show()"
   ]
  },
  {
   "cell_type": "code",
   "execution_count": 62,
   "id": "cd2e5a36-c273-457b-9be4-50b416d118e6",
   "metadata": {},
   "outputs": [],
   "source": [
    "m_events.to_csv(\"merged_events.csv\",sep=',', index=False)"
   ]
  },
  {
   "cell_type": "code",
   "execution_count": 63,
   "id": "7e8784cf-e115-48ea-a241-07c43f96a4fd",
   "metadata": {},
   "outputs": [
    {
     "data": {
      "text/html": [
       "<div>\n",
       "<style scoped>\n",
       "    .dataframe tbody tr th:only-of-type {\n",
       "        vertical-align: middle;\n",
       "    }\n",
       "\n",
       "    .dataframe tbody tr th {\n",
       "        vertical-align: top;\n",
       "    }\n",
       "\n",
       "    .dataframe thead th {\n",
       "        text-align: right;\n",
       "    }\n",
       "</style>\n",
       "<table border=\"1\" class=\"dataframe\">\n",
       "  <thead>\n",
       "    <tr style=\"text-align: right;\">\n",
       "      <th></th>\n",
       "      <th>id</th>\n",
       "      <th>siteId</th>\n",
       "      <th>equipmentId</th>\n",
       "      <th>eventType</th>\n",
       "      <th>measured_rate</th>\n",
       "      <th>measured_duration</th>\n",
       "      <th>measured_quantity</th>\n",
       "      <th>measured_startTime</th>\n",
       "      <th>measured_endTime</th>\n",
       "      <th>calculated_duration</th>\n",
       "      <th>calculated_quantity</th>\n",
       "      <th>calculated_startTime</th>\n",
       "      <th>calculated_endTime</th>\n",
       "    </tr>\n",
       "  </thead>\n",
       "  <tbody>\n",
       "    <tr>\n",
       "      <th>0</th>\n",
       "      <td>e71e4e06-1940-4047-87df-2628de6fb5d6</td>\n",
       "      <td>SU-SITE-001</td>\n",
       "      <td>SU-SITE-001</td>\n",
       "      <td>Resolved Event</td>\n",
       "      <td>299.220075</td>\n",
       "      <td>0.066667</td>\n",
       "      <td>19.948005</td>\n",
       "      <td>2024-04-23 13:02</td>\n",
       "      <td>2024-04-23 13:06</td>\n",
       "      <td>1444.633333</td>\n",
       "      <td>27803.370987</td>\n",
       "      <td>2024-03-01 19:22</td>\n",
       "      <td>2024-05-01 0:00</td>\n",
       "    </tr>\n",
       "    <tr>\n",
       "      <th>1</th>\n",
       "      <td>a85cb48e-c74a-4e3e-befa-21b16191516e</td>\n",
       "      <td>SU-SITE-001</td>\n",
       "      <td>SU-SITE-001</td>\n",
       "      <td>Resolved Event</td>\n",
       "      <td>NaN</td>\n",
       "      <td>NaN</td>\n",
       "      <td>NaN</td>\n",
       "      <td>None</td>\n",
       "      <td>None</td>\n",
       "      <td>0.100000</td>\n",
       "      <td>18.410886</td>\n",
       "      <td>2024-04-19 15:57</td>\n",
       "      <td>2024-04-19 16:03</td>\n",
       "    </tr>\n",
       "    <tr>\n",
       "      <th>2</th>\n",
       "      <td>5f674067-187a-4080-a540-d5ba50e13af9</td>\n",
       "      <td>SU-SITE-001</td>\n",
       "      <td>SU-SITE-001</td>\n",
       "      <td>Resolved Event</td>\n",
       "      <td>NaN</td>\n",
       "      <td>NaN</td>\n",
       "      <td>NaN</td>\n",
       "      <td>None</td>\n",
       "      <td>None</td>\n",
       "      <td>0.066667</td>\n",
       "      <td>25.376856</td>\n",
       "      <td>2024-04-19 14:48</td>\n",
       "      <td>2024-04-19 14:52</td>\n",
       "    </tr>\n",
       "  </tbody>\n",
       "</table>\n",
       "</div>"
      ],
      "text/plain": [
       "                                     id       siteId  equipmentId  \\\n",
       "0  e71e4e06-1940-4047-87df-2628de6fb5d6  SU-SITE-001  SU-SITE-001   \n",
       "1  a85cb48e-c74a-4e3e-befa-21b16191516e  SU-SITE-001  SU-SITE-001   \n",
       "2  5f674067-187a-4080-a540-d5ba50e13af9  SU-SITE-001  SU-SITE-001   \n",
       "\n",
       "        eventType  measured_rate  measured_duration  measured_quantity  \\\n",
       "0  Resolved Event     299.220075           0.066667          19.948005   \n",
       "1  Resolved Event            NaN                NaN                NaN   \n",
       "2  Resolved Event            NaN                NaN                NaN   \n",
       "\n",
       "  measured_startTime  measured_endTime  calculated_duration  \\\n",
       "0   2024-04-23 13:02  2024-04-23 13:06          1444.633333   \n",
       "1               None              None             0.100000   \n",
       "2               None              None             0.066667   \n",
       "\n",
       "   calculated_quantity calculated_startTime calculated_endTime  \n",
       "0         27803.370987     2024-03-01 19:22    2024-05-01 0:00  \n",
       "1            18.410886     2024-04-19 15:57   2024-04-19 16:03  \n",
       "2            25.376856     2024-04-19 14:48   2024-04-19 14:52  "
      ]
     },
     "execution_count": 63,
     "metadata": {},
     "output_type": "execute_result"
    }
   ],
   "source": [
    "m_events.head(3)"
   ]
  }
 ],
 "metadata": {
  "kernelspec": {
   "display_name": "Python 3 (ipykernel)",
   "language": "python",
   "name": "python3"
  },
  "language_info": {
   "codemirror_mode": {
    "name": "ipython",
    "version": 3
   },
   "file_extension": ".py",
   "mimetype": "text/x-python",
   "name": "python",
   "nbconvert_exporter": "python",
   "pygments_lexer": "ipython3",
   "version": "3.10.14"
  }
 },
 "nbformat": 4,
 "nbformat_minor": 5
}
